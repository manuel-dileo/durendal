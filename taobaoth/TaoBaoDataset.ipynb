{
 "cells": [
  {
   "cell_type": "code",
   "execution_count": null,
   "id": "2cb62bff",
   "metadata": {},
   "outputs": [],
   "source": [
    "import os\n",
    "from typing import Callable, Optional\n",
    "\n",
    "import numpy as np\n",
    "import torch\n",
    "\n",
    "from torch_geometric.data import (\n",
    "    HeteroData,\n",
    "    InMemoryDataset,\n",
    "    download_url,\n",
    "    extract_zip,\n",
    ")\n",
    "\n",
    "class Taobao(InMemoryDataset):\n",
    "    r\"\"\"Taobao is a dataset of user behaviors from Taobao offered by Alibaba,\n",
    "    provided by the `Tianchi Alicloud platform\n",
    "    <https://tianchi.aliyun.com/dataset/649>`_.\n",
    "\n",
    "    Taobao is a heterogeneous graph for recommendation.\n",
    "    Nodes represent users with user IDs, items with item IDs, and categories\n",
    "    with category ID.\n",
    "    Edges between users and items represent different types of user behaviors\n",
    "    towards items (alongside with timestamps).\n",
    "    Edges between items and categories assign each item to its set of\n",
    "    categories.\n",
    "\n",
    "    Args:\n",
    "        root (str): Root directory where the dataset should be saved.\n",
    "        transform (callable, optional): A function/transform that takes in an\n",
    "            :obj:`torch_geometric.data.HeteroData` object and returns a\n",
    "            transformed version. The data object will be transformed before\n",
    "            every access. (default: :obj:`None`)\n",
    "        pre_transform (callable, optional): A function/transform that takes in\n",
    "            an :obj:`torch_geometric.data.HeteroData` object and returns a\n",
    "            transformed version. The data object will be transformed before\n",
    "            being saved to disk. (default: :obj:`None`)\n",
    "\n",
    "    \"\"\"\n",
    "    url = ('https://alicloud-dev.oss-cn-hangzhou.aliyuncs.com/'\n",
    "           'UserBehavior.csv.zip')\n",
    "\n",
    "    def __init__(\n",
    "        self,\n",
    "        root,\n",
    "        transform: Optional[Callable] = None,\n",
    "        pre_transform: Optional[Callable] = None,\n",
    "    ):\n",
    "        super().__init__(root, transform, pre_transform)\n",
    "        self.data, self.slices = torch.load(self.processed_paths[0])\n",
    "\n",
    "    @property\n",
    "    def raw_file_names(self) -> str:\n",
    "        return 'UserBehavior.csv'\n",
    "\n",
    "    @property\n",
    "    def processed_file_names(self) -> str:\n",
    "        return 'data.pt'\n",
    "\n",
    "    def download(self):\n",
    "        path = download_url(self.url, self.raw_dir)\n",
    "        extract_zip(path, self.raw_dir)\n",
    "        os.remove(path)\n",
    "\n",
    "    def process(self):\n",
    "        import pandas as pd\n",
    "\n",
    "        cols = ['userId', 'itemId', 'categoryId', 'behaviorType', 'timestamp']\n",
    "        df = pd.read_csv(self.raw_paths[0], names=cols)\n",
    "\n",
    "        # Time representation (YYYY.MM.DD-HH:MM:SS -> Integer)\n",
    "        # start: 1511539200 = 2017.11.25-00:00:00\n",
    "        # end:   1512316799 = 2017.12.03-23:59:59\n",
    "        start = 1511539200\n",
    "        end = 1512316799\n",
    "        df = df[(df[\"timestamp\"] >= start) & (df[\"timestamp\"] <= end)]\n",
    "\n",
    "        df = df.drop_duplicates()\n",
    "\n",
    "        behavior_dict = {'pv': 0, 'cart': 1, 'buy': 2, 'fav': 3}\n",
    "        df['behaviorType'] = df['behaviorType'].map(behavior_dict)\n",
    "\n",
    "        num_entries = {}\n",
    "        for col in ['userId', 'itemId', 'categoryId']:\n",
    "            # Map IDs to consecutive integers:\n",
    "            value, df[col] = np.unique(df[[col]].values, return_inverse=True)\n",
    "            num_entries[col] = value.shape[0]\n",
    "\n",
    "        data = HeteroData()\n",
    "\n",
    "        data['user'].num_nodes = num_entries['userId']\n",
    "        data['item'].num_nodes = num_entries['itemId']\n",
    "        data['category'].num_nodes = num_entries['categoryId']\n",
    "\n",
    "        row = torch.from_numpy(df['userId'].values)\n",
    "        col = torch.from_numpy(df['itemId'].values)\n",
    "        data['user', 'item'].edge_index = torch.stack([row, col], dim=0)\n",
    "        data['user', 'item'].time = torch.from_numpy(df['timestamp'].values)\n",
    "        behavior = torch.from_numpy(df['behaviorType'].values)\n",
    "        data['user', 'item'].behavior = behavior\n",
    "\n",
    "        df = df[['itemId', 'categoryId']].drop_duplicates()\n",
    "        row = torch.from_numpy(df['itemId'].values)\n",
    "        col = torch.from_numpy(df['categoryId'].values)\n",
    "        data['item', 'category'].edge_index = torch.stack([row, col], dim=0)\n",
    "\n",
    "        data = data if self.pre_transform is None else self.pre_transform(data)\n",
    "\n",
    "        torch.save(self.collate([data]), self.processed_paths[0])"
   ]
  },
  {
   "cell_type": "code",
   "execution_count": null,
   "id": "9373472c",
   "metadata": {},
   "outputs": [],
   "source": [
    "data = Taobao(root='Taobao/') #download Taobao from PyG"
   ]
  },
  {
   "cell_type": "code",
   "execution_count": null,
   "id": "daed240c",
   "metadata": {},
   "outputs": [],
   "source": [
    "dataset = data[0]"
   ]
  },
  {
   "cell_type": "code",
   "execution_count": null,
   "id": "d5b6d641",
   "metadata": {},
   "outputs": [],
   "source": [
    "dataset"
   ]
  },
  {
   "cell_type": "code",
   "execution_count": null,
   "id": "4c3b9404",
   "metadata": {},
   "outputs": [],
   "source": [
    "import random\n",
    "items = random.sample(range(4161138), 250_000) #sample 250k items"
   ]
  },
  {
   "cell_type": "code",
   "execution_count": null,
   "id": "5bfb1195",
   "metadata": {},
   "outputs": [],
   "source": [
    "from torch_geometric.utils import subgraph"
   ]
  },
  {
   "cell_type": "code",
   "execution_count": null,
   "id": "9ea7a0f0",
   "metadata": {},
   "outputs": [],
   "source": [
    "a = dataset['user','to','item'].time\n",
    "b = dataset['user','to','item'].behavior\n",
    "dataset['user','to','item'].edge_attr = torch.stack((a,b),dim=1) #utility to obtain timestamp and relation types as edge_attr"
   ]
  },
  {
   "cell_type": "code",
   "execution_count": null,
   "id": "1c5b6a3f",
   "metadata": {},
   "outputs": [],
   "source": [
    "sub_uti = subgraph(torch.Tensor(items).long(),\\\n",
    "                   dataset['user','to','item'].edge_index,\\\n",
    "                   dataset['user','to','item'].edge_attr) #obtain the subgraph induced by items for user-to-item"
   ]
  },
  {
   "cell_type": "code",
   "execution_count": null,
   "id": "eff5c324",
   "metadata": {},
   "outputs": [],
   "source": [
    "sub_itc = subgraph(torch.Tensor(items).long(),\\\n",
    "                   dataset['item','to','category'].edge_index) #obtain the subgraph induced by items for item-to-category"
   ]
  },
  {
   "cell_type": "code",
   "execution_count": null,
   "id": "6f9e7bae",
   "metadata": {},
   "outputs": [],
   "source": [
    "max_user_id = torch.max(sub_uti[0][0])\n",
    "max_items_id = max(int(torch.max(sub_uti[0][1])), int(torch.max(sub_itc[0][0])))\n",
    "max_category_id = torch.max(sub_itc[0][1])"
   ]
  },
  {
   "cell_type": "code",
   "execution_count": null,
   "id": "f3bb60ab",
   "metadata": {},
   "outputs": [],
   "source": [
    "from torch_geometric.transforms import RemoveIsolatedNodes"
   ]
  },
  {
   "cell_type": "code",
   "execution_count": null,
   "id": "9f30fee1",
   "metadata": {},
   "outputs": [],
   "source": [
    "subdata = HeteroData()\n",
    "subdata['user'].x = torch.Tensor([[1] for i in range(max_user_id+1)]) #constant encoders for node features\n",
    "subdata['item'].x = torch.Tensor([[1] for i in range(max_items_id+1)])\n",
    "subdata['category'].x = torch.Tensor([[1] for i in range(max_category_id+1)])\n",
    "subdata['user','to','item'].edge_index = sub_uti[0]\n",
    "t, behavior = torch.unbind(sub_uti[1], dim=1) #obtain times and types of the edges in the subgraph\n",
    "subdata['user','to','item'].t = t\n",
    "subdata['user','to','item'].behavior = behavior\n",
    "subdata['item','to','category'].edge_index = sub_itc[0]\n",
    "remove_isolated = RemoveIsolatedNodes()\n",
    "subdata = remove_isolated(subdata)"
   ]
  },
  {
   "cell_type": "code",
   "execution_count": null,
   "id": "5460fe87",
   "metadata": {},
   "outputs": [],
   "source": [
    "behaviors = { #map behaviours to relation types\n",
    "    0: 'pageview',\n",
    "    1: 'buy',\n",
    "    2: 'cart',\n",
    "    3: 'fav'\n",
    "}"
   ]
  },
  {
   "cell_type": "code",
   "execution_count": null,
   "id": "7a04300a",
   "metadata": {},
   "outputs": [],
   "source": [
    "#1 timestamp al secondo -> raggruppiamo in ore, prendiamo solo il primo giorno\n",
    "\n",
    "min_t = torch.min(subdata['user','to','item'].t)\n",
    "max_t = torch.max(subdata['user','to','item'].t)\n",
    "\n",
    "\n",
    "edge_index = subdata['user','to','item'].edge_index\n",
    "behavior = subdata['user','to','item'].behavior\n",
    "timestamps = subdata['user','to','item'].t\n",
    "\n",
    "torch.save(subdata['user'].x, 'TAOBAO-5/user.pt')\n",
    "torch.save(subdata['category'].x,'TAOBAO-5/category.pt')\n",
    "torch.save(subdata['item'].x, 'TAOBAO-5/item.pt')\n",
    "torch.save(subdata['item','to','category'].edge_index, 'TAOBAO-5/itc_edge_index.pt')\n",
    "\n",
    "count = 1\n",
    "snap = HeteroData()\n",
    "for k,v in behaviors.items():\n",
    "    snap['user',v,'item'].edge_index = torch.Tensor([[],[]])\n",
    "split = 60*5 #snap every 5min\n",
    "#end = 86400 #process the first day\n",
    "end = max_t-min_t #process all the snap\n",
    "snapshots = [HeteroData() for x in range((end//split)+1)] #HeteroData for each snap\n",
    "for snap in snapshots:\n",
    "    for k,v in behaviors.items():\n",
    "        snap['user',v,'item'].edge_index = torch.Tensor([[],[]]) #initialize data structures"
   ]
  },
  {
   "cell_type": "code",
   "execution_count": null,
   "id": "2fcc19e5",
   "metadata": {},
   "outputs": [],
   "source": [
    "for i,edge in enumerate(torch.stack(\\\n",
    "                        (subdata['user','to','item'].edge_index[0],\\\n",
    "                         subdata['user','to','item'].edge_index[1]),\\\n",
    "                        dim=1)):\n",
    "    #for each edge, obtain its timestamp and its behaviour and append src, dst to the correct edge_index\n",
    "    src, dst = int(edge[0]), int(edge[1])\n",
    "    t = int(subdata['user','to','item'].t[int(i)] - min_t)\n",
    "    if t >= end: continue\n",
    "    b = behaviors[int(subdata['user','to','item'].behavior[int(i)])]\n",
    "    try:\n",
    "        edge_index = snapshots[t//split]['user',b,'item'].edge_index\n",
    "    except IndexError:\n",
    "        print(t, split, t//split)\n",
    "    new_src = torch.cat((edge_index[0],torch.Tensor([src])))\n",
    "    new_dst = torch.cat((edge_index[1],torch.Tensor([dst])))\n",
    "    snapshots[t//split]['user',b,'item'].edge_index = torch.stack((new_src, new_dst))\n",
    "    \n",
    "    if i % 100_000 == 0:\n",
    "        print(f'processed {i} edges')"
   ]
  },
  {
   "cell_type": "code",
   "execution_count": null,
   "id": "cfd7a06c",
   "metadata": {},
   "outputs": [],
   "source": [
    "len(snapshots)"
   ]
  },
  {
   "cell_type": "code",
   "execution_count": null,
   "id": "a7a07461",
   "metadata": {},
   "outputs": [],
   "source": [
    "for i, snap in enumerate(snapshots):\n",
    "    for edge_t, v in snap.edge_index_dict.items():\n",
    "        torch.save(v,f'TAOBAO-5/{i}_{edge_t}.pt')"
   ]
  }
 ],
 "metadata": {
  "kernelspec": {
   "display_name": "Python 3 (ipykernel)",
   "language": "python",
   "name": "python3"
  },
  "language_info": {
   "codemirror_mode": {
    "name": "ipython",
    "version": 3
   },
   "file_extension": ".py",
   "mimetype": "text/x-python",
   "name": "python",
   "nbconvert_exporter": "python",
   "pygments_lexer": "ipython3",
   "version": "3.9.7"
  }
 },
 "nbformat": 4,
 "nbformat_minor": 5
}
